{
 "cells": [
  {
   "cell_type": "code",
   "execution_count": 368,
   "id": "3ad86929",
   "metadata": {},
   "outputs": [
    {
     "name": "stdout",
     "output_type": "stream",
     "text": [
      "delta: 1.0071573640507412\n",
      "classical bit security: 47.0120000000000\n",
      "quantum bit security: 41.3770000000000\n",
      "left_mpk: 0.535695736286000\n",
      "right_mpk: 0.041551786074129696\n",
      "left_sk: 57214.05771644963\n",
      "right_sk: 56755.8408624170\n",
      "left_ct: 1048.37652269275\n",
      "right_ct: 0.002779446405150079\n"
     ]
    }
   ],
   "source": [
    "import math \n",
    "\n",
    "def cal_delta(beta):\n",
    "    return math.pow(math.pow(math.pi*beta,1/beta)*beta/(2*math.pi*math.e), 1/(2*(beta-1)))\n",
    "\n",
    "def left_mpk(beta,n,k):\n",
    "    return 1.17*math.sqrt(beta/(n*(k+1)))\n",
    "\n",
    "def right_mpk(beta,n,k):\n",
    "    return math.pow(cal_delta(beta),2*beta-n*(k+1))\n",
    "\n",
    "def left_sk(beta,n,k,d):\n",
    "    return math.pow(cal_delta(beta), n*(k+d+1))\n",
    "                    \n",
    "def right_sk(sigma,n,k,d,q):\n",
    "    return sigma*math.sqrt(n*(k+d+1))/math.pow(q,1/(k+d+1))\n",
    "\n",
    "def left_ct(beta,n,k,d,sigma_):\n",
    "    return math.sqrt(beta/(n*(k+d+1)))*sigma_*math.sqrt(n*(k+d))\n",
    "\n",
    "def right_ct(beta,n,k,d,q):\n",
    "    return math.pow(cal_delta(beta),2*beta-n*(k+d+1))*math.pow(q,1/(k+d+1))\n",
    "\n",
    "beta=161\n",
    "n=256\n",
    "k=2\n",
    "q=2**(24)\n",
    "d=3\n",
    "sigma=2**(14.5)\n",
    "sigma_=2**(6.5)\n",
    "\n",
    "classical_bit=0.292*beta\n",
    "quantum_bit=0.257*beta\n",
    "delta = cal_delta(beta)\n",
    "\n",
    "print(\"delta:\", delta)\n",
    "print(\"classical bit security:\", classical_bit)\n",
    "print(\"quantum bit security:\", quantum_bit)\n",
    "\n",
    "print(\"left_mpk:\", left_mpk(beta,n,k))\n",
    "print(\"right_mpk:\", right_mpk(beta,n,k))\n",
    "\n",
    "print(\"left_sk:\", left_sk(beta,n,k,d))\n",
    "print(\"right_sk:\", right_sk(sigma,n,k,d,q))\n",
    "\n",
    "print(\"left_ct:\", left_ct(beta,n,k,d,sigma_))\n",
    "print(\"right_ct:\", right_ct(beta,n,k,d,q))"
   ]
  }
 ],
 "metadata": {
  "kernelspec": {
   "display_name": "SageMath 9.8",
   "language": "sage",
   "name": "sagemath"
  },
  "language_info": {
   "codemirror_mode": {
    "name": "ipython",
    "version": 3
   },
   "file_extension": ".py",
   "mimetype": "text/x-python",
   "name": "python",
   "nbconvert_exporter": "python",
   "pygments_lexer": "ipython3",
   "version": "3.9.16"
  }
 },
 "nbformat": 4,
 "nbformat_minor": 5
}
